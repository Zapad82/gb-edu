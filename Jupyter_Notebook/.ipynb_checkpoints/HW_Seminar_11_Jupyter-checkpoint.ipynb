{
 "cells": [
  {
   "cell_type": "code",
   "execution_count": 7,
   "id": "97e5e57f",
   "metadata": {},
   "outputs": [],
   "source": [
    "# Дана функция f(x) = 18x^3+5x^2 + 10x - 30\n",
    "\n",
    "# 1. Определить корни\n",
    "# 2. Найти интервалы, на которых функция возрастает\n",
    "# 3. Найти интервалы, на которых функция убывает\n",
    "# 4. Построить график\n",
    "# 5. Вычислить вершину\n",
    "# 6. Определить промежутки, на котором f > 0\n",
    "# 7. Определить промежутки, на котором f < 0\n",
    "\n",
    "from sympy import *\n",
    "from sympy.plotting import plot\n"
   ]
  },
  {
   "cell_type": "code",
   "execution_count": 8,
   "id": "165a2edb",
   "metadata": {},
   "outputs": [
    {
     "name": "stdout",
     "output_type": "stream",
     "text": [
      "[-5/54 + (-1/2 - sqrt(3)*I/2)*(135145/157464 + 5*sqrt(252411)/2916)**(1/3) - 515/(2916*(-1/2 - sqrt(3)*I/2)*(135145/157464 + 5*sqrt(252411)/2916)**(1/3)), -5/54 - 515/(2916*(-1/2 + sqrt(3)*I/2)*(135145/157464 + 5*sqrt(252411)/2916)**(1/3)) + (-1/2 + sqrt(3)*I/2)*(135145/157464 + 5*sqrt(252411)/2916)**(1/3), -515/(2916*(135145/157464 + 5*sqrt(252411)/2916)**(1/3)) - 5/54 + (135145/157464 + 5*sqrt(252411)/2916)**(1/3)]\n"
     ]
    }
   ],
   "source": [
    "# 1. Определить корни\n",
    "x = Symbol('x')\n",
    "f = 18*(x**3) + 5*(x**2) + 10*x - 30\n",
    "a = solve(f,x)\n",
    "print(a)"
   ]
  },
  {
   "cell_type": "code",
   "execution_count": 9,
   "id": "d43f83ab",
   "metadata": {},
   "outputs": [
    {
     "name": "stdout",
     "output_type": "stream",
     "text": [
      "(x < oo) & (CRootOf(18*x**3 + 5*x**2 + 10*x - 30, 0) < x)\n",
      "(-oo < x) & (x < CRootOf(18*x**3 + 5*x**2 + 10*x - 30, 0))\n"
     ]
    }
   ],
   "source": [
    "# 2. Найти интервалы, на которых функция возрастает\n",
    "# 3. Найти интервалы, на которых функция убывает\n",
    "print(solve(f > 0,x))\n",
    "print(solve(f < 0,x))"
   ]
  },
  {
   "cell_type": "code",
   "execution_count": 10,
   "id": "61d18136",
   "metadata": {},
   "outputs": [
    {
     "name": "stdout",
     "output_type": "stream",
     "text": [
      "  19000 |                                                      /\n",
      "        |                                                     / \n",
      "        |                                                    /  \n",
      "        |                                                   /   \n",
      "        |                                                  /    \n",
      "        |                                                 /     \n",
      "        |                                               ..      \n",
      "        |                                             ..        \n",
      "        |                                           ..          \n",
      "        |                                       ....            \n",
      "    500 |--------------------...................----------------\n",
      "        |              ......                                   \n",
      "        |           ...                                         \n",
      "        |         ..                                            \n",
      "        |       ..                                              \n",
      "        |     ..                                                \n",
      "        |    /                                                  \n",
      "        |   /                                                   \n",
      "        |  /                                                    \n",
      "        | /                                                     \n",
      " -18000 |_______________________________________________________\n",
      "         -10                        0                          10\n"
     ]
    },
    {
     "data": {
      "text/plain": [
       "<sympy.plotting.plot.Plot at 0x7fda71313b20>"
      ]
     },
     "execution_count": 10,
     "metadata": {},
     "output_type": "execute_result"
    }
   ],
   "source": [
    "# 4. Построить график\n",
    "\n",
    "\n",
    "plot(f)\n"
   ]
  },
  {
   "cell_type": "code",
   "execution_count": 11,
   "id": "fe0a8e39",
   "metadata": {},
   "outputs": [
    {
     "name": "stdout",
     "output_type": "stream",
     "text": [
      "Функция 18*x**3 + 5*x**2 + 10*x - 30 не имеет вершины.\n"
     ]
    }
   ],
   "source": [
    "# 5. Вычислить вершину\n",
    "diff =  diff(f,x)\n",
    "if solve(diff > 0, x):\n",
    "    print(f'Функция {f} не имеет вершины.')\n",
    "elif solve(diff < 0, x):\n",
    "    print(f'Функция {f} не имеет вершины.')  \n",
    "else:\n",
    "    print(diff)\n",
    "    print(solve(diff,x))"
   ]
  },
  {
   "cell_type": "code",
   "execution_count": 18,
   "id": "bbe505bc",
   "metadata": {},
   "outputs": [
    {
     "name": "stdout",
     "output_type": "stream",
     "text": [
      "Функция 18*x**3 + 5*x**2 + 10*x - 30 > 0 при значениях Х равных:\n",
      "(x < oo) & (CRootOf(18*x**3 + 5*x**2 + 10*x - 30, 0) < x)\n",
      "Функция 18*x**3 + 5*x**2 + 10*x - 30 < 0 при значениях Х равных:\n",
      "(-oo < x) & (x < CRootOf(18*x**3 + 5*x**2 + 10*x - 30, 0))\n"
     ]
    }
   ],
   "source": [
    "# 6. Определить промежутки, на котором f > 0\n",
    "# 7. Определить промежутки, на котором f < 0\n",
    "# while solve(diff > 0, x):\n",
    "print(f'Функция {f} > 0 при значениях Х равных:')    \n",
    "print(solve(f > 0,x))\n",
    "print(f'Функция {f} < 0 при значениях Х равных:')   \n",
    "print(solve(f < 0,x))"
   ]
  }
 ],
 "metadata": {
  "kernelspec": {
   "display_name": "Python 3 (ipykernel)",
   "language": "python",
   "name": "python3"
  },
  "language_info": {
   "codemirror_mode": {
    "name": "ipython",
    "version": 3
   },
   "file_extension": ".py",
   "mimetype": "text/x-python",
   "name": "python",
   "nbconvert_exporter": "python",
   "pygments_lexer": "ipython3",
   "version": "3.10.6"
  }
 },
 "nbformat": 4,
 "nbformat_minor": 5
}
