{
 "cells": [
  {
   "cell_type": "code",
   "execution_count": 1,
   "metadata": {},
   "outputs": [],
   "source": [
    "# Дана задача:\n",
    "\n",
    "# К аналитику обратился риэлтор c задачей выставить ценник для продажи объектов недвижимости площадью 48м2 и 54м2. \n",
    "# В ходе работы над задачей аналитик выяснил, что:\n",
    "# объект 31м2 стоит $19310\n",
    "# объект 51м2 стоит $52150\n",
    "# объект 61м2 стоит $74570\n",
    "# Вопрос: что. сказать риелтору?\n",
    "from sympy import *"
   ]
  },
  {
   "cell_type": "code",
   "execution_count": 8,
   "metadata": {},
   "outputs": [
    {
     "name": "stdout",
     "output_type": "stream",
     "text": [
      "[(20, 2, 28)]\n"
     ]
    }
   ],
   "source": [
    "a,b,c,x = symbols('a,b,c,x')\n",
    "y1 = a*31**2 + b*31+c-19310\n",
    "y2 = a*51**2 + b*51+c -52150\n",
    "y3 = a*61**2 + b*61+c -74570\n",
    "\n",
    "result = list(nonlinsolve([y1,y2,y3],[a,b,c]))\n",
    "print(result)\n",
    "f=20*x**2+2*x+28 "
   ]
  },
  {
   "cell_type": "code",
   "execution_count": 9,
   "metadata": {},
   "outputs": [
    {
     "name": "stdout",
     "output_type": "stream",
     "text": [
      "Цена квартиры, площадью 48м2 равна: 46204\n"
     ]
    }
   ],
   "source": [
    "m = 48\n",
    "print(f'Цена квартиры, площадью {m}м2 равна: {result[0][0]*m**2+result[0][1]*m+result[0][2]}')"
   ]
  },
  {
   "cell_type": "code",
   "execution_count": 11,
   "metadata": {},
   "outputs": [
    {
     "name": "stdout",
     "output_type": "stream",
     "text": [
      "Цена квартиры, площадью 54м2 равна: 58456\n"
     ]
    }
   ],
   "source": [
    "mm = 54\n",
    "print(f'Цена квартиры, площадью {mm}м2 равна: {result[0][0]*mm**2+result[0][1]*mm+result[0][2]}')"
   ]
  }
 ],
 "metadata": {
  "kernelspec": {
   "display_name": "Python 3.10.6 64-bit",
   "language": "python",
   "name": "python3"
  },
  "language_info": {
   "codemirror_mode": {
    "name": "ipython",
    "version": 3
   },
   "file_extension": ".py",
   "mimetype": "text/x-python",
   "name": "python",
   "nbconvert_exporter": "python",
   "pygments_lexer": "ipython3",
   "version": "3.10.6"
  },
  "orig_nbformat": 4,
  "vscode": {
   "interpreter": {
    "hash": "916dbcbb3f70747c44a77c7bcd40155683ae19c65e1c03b4aa3499c5328201f1"
   }
  }
 },
 "nbformat": 4,
 "nbformat_minor": 2
}
